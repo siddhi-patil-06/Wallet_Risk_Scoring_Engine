{
  "nbformat": 4,
  "nbformat_minor": 0,
  "metadata": {
    "colab": {
      "provenance": [],
      "authorship_tag": "ABX9TyOJWBI5IqZ5SmnewaMVHAEu",
      "include_colab_link": true
    },
    "kernelspec": {
      "name": "python3",
      "display_name": "Python 3"
    },
    "language_info": {
      "name": "python"
    }
  },
  "cells": [
    {
      "cell_type": "markdown",
      "metadata": {
        "id": "view-in-github",
        "colab_type": "text"
      },
      "source": [
        "<a href=\"https://colab.research.google.com/github/siddhi-patil-06/Wallet_Risk_Scoring_Engine/blob/main/Wallet_Risk_Scoring_Engine.ipynb\" target=\"_parent\"><img src=\"https://colab.research.google.com/assets/colab-badge.svg\" alt=\"Open In Colab\"/></a>"
      ]
    },
    {
      "cell_type": "code",
      "execution_count": null,
      "metadata": {
        "colab": {
          "base_uri": "https://localhost:8080/"
        },
        "id": "VTAsAH8HrER1",
        "outputId": "1a8576b4-eda1-4abb-93ca-e16e7c53aa94"
      },
      "outputs": [
        {
          "output_type": "stream",
          "name": "stdout",
          "text": [
            "Requirement already satisfied: requests in /usr/local/lib/python3.11/dist-packages (2.32.3)\n",
            "Requirement already satisfied: pandas in /usr/local/lib/python3.11/dist-packages (2.2.2)\n",
            "Requirement already satisfied: numpy in /usr/local/lib/python3.11/dist-packages (2.0.2)\n",
            "Requirement already satisfied: charset-normalizer<4,>=2 in /usr/local/lib/python3.11/dist-packages (from requests) (3.4.2)\n",
            "Requirement already satisfied: idna<4,>=2.5 in /usr/local/lib/python3.11/dist-packages (from requests) (3.10)\n",
            "Requirement already satisfied: urllib3<3,>=1.21.1 in /usr/local/lib/python3.11/dist-packages (from requests) (2.5.0)\n",
            "Requirement already satisfied: certifi>=2017.4.17 in /usr/local/lib/python3.11/dist-packages (from requests) (2025.7.14)\n",
            "Requirement already satisfied: python-dateutil>=2.8.2 in /usr/local/lib/python3.11/dist-packages (from pandas) (2.9.0.post0)\n",
            "Requirement already satisfied: pytz>=2020.1 in /usr/local/lib/python3.11/dist-packages (from pandas) (2025.2)\n",
            "Requirement already satisfied: tzdata>=2022.7 in /usr/local/lib/python3.11/dist-packages (from pandas) (2025.2)\n",
            "Requirement already satisfied: six>=1.5 in /usr/local/lib/python3.11/dist-packages (from python-dateutil>=2.8.2->pandas) (1.17.0)\n"
          ]
        }
      ],
      "source": [
        "!pip install requests pandas numpy\n"
      ]
    },
    {
      "cell_type": "code",
      "source": [
        "import requests\n",
        "import pandas as pd\n",
        "import numpy as np\n",
        "from datetime import datetime, timedelta\n",
        "import time\n",
        "from tqdm import tqdm\n",
        "\n",
        "# Configuration\n",
        "COMPOUND_V2_SUBGRAPH = \"https://api.thegraph.com/subgraphs/name/graphprotocol/compound-v2\"\n",
        "COMPOUND_V3_SUBGRAPH = \"https://api.thegraph.com/subgraphs/name/compound-finance/compound-v3\"\n",
        "ETHERSCAN_API = \"https://api.etherscan.io/api\"\n",
        "ETHERSCAN_API_KEY = \"P26IXMUPZGVMFS2PU6BM3YFCXM5ZBARPDM\"\n",
        "SCORE_MAX = 1000\n",
        "BATCH_SIZE = 3\n",
        "DELAY_SECONDS = 2\n",
        "\n",
        "def fetch_compound_data(wallet_address):\n",
        "    \"\"\"Fetch enhanced Compound protocol data\"\"\"\n",
        "    query = \"\"\"{\n",
        "      account(id: \"%s\") {\n",
        "        hasBorrowed\n",
        "        countLiquidated\n",
        "        borrows(first: 10) { amount }\n",
        "        repayments(first: 10) { amount }\n",
        "        liquidations(first: 5) { amountRepaid }\n",
        "      }\n",
        "    }\"\"\" % wallet_address.lower()\n",
        "\n",
        "    try:\n",
        "        for endpoint in [COMPOUND_V3_SUBGRAPH, COMPOUND_V2_SUBGRAPH]:\n",
        "            response = requests.post(endpoint, json={'query': query}, timeout=10)\n",
        "            if response.status_code == 200:\n",
        "                data = response.json()\n",
        "                if data.get('data', {}).get('account'):\n",
        "                    return data['data']['account']\n",
        "    except Exception:\n",
        "        pass\n",
        "    return None\n",
        "\n",
        "def fetch_etherscan_data(wallet_address):\n",
        "    \"\"\"Fetch transaction data with enhanced features\"\"\"\n",
        "    params = {\n",
        "        'module': 'account',\n",
        "        'action': 'txlist',\n",
        "        'address': wallet_address,\n",
        "        'startblock': 0,\n",
        "        'endblock': 99999999,\n",
        "        'sort': 'desc',\n",
        "        'apikey': ETHERSCAN_API_KEY\n",
        "    }\n",
        "\n",
        "    try:\n",
        "        response = requests.get(ETHERSCAN_API, params=params, timeout=15)\n",
        "        if response.status_code == 200:\n",
        "            return response.json().get('result', [])\n",
        "    except Exception:\n",
        "        pass\n",
        "    return []\n",
        "\n",
        "def calculate_risk_score(wallet_address):\n",
        "    \"\"\"Final optimized scoring model with full 0-1000 range\"\"\"\n",
        "    try:\n",
        "        compound_data = fetch_compound_data(wallet_address)\n",
        "        eth_txs = fetch_etherscan_data(wallet_address)\n",
        "\n",
        "        # 1. Protocol Risk (0-600 points)\n",
        "        protocol_score = 0\n",
        "        if compound_data:\n",
        "            borrowed = sum(float(tx['amount']) for tx in compound_data.get('borrows', []))\n",
        "            liquidated = compound_data.get('countLiquidated', 0)\n",
        "            repay_ratio = min(\n",
        "                sum(float(tx['amount']) for tx in compound_data.get('repayments', [])) /\n",
        "                max(borrowed, 1),\n",
        "                1\n",
        "            )\n",
        "\n",
        "            protocol_score = min(\n",
        "                (borrowed ** 0.6) * 15 +          # Progressive borrow amount scaling\n",
        "                liquidated * 300 +                # Heavy liquidation impact\n",
        "                (1 - repay_ratio) * 300,          # Significant repayment penalty\n",
        "                600\n",
        "            )\n",
        "\n",
        "        # 2. Activity Risk (0-400 points)\n",
        "        tx_count = len(eth_txs)\n",
        "        contract_txs = sum(1 for tx in eth_txs if tx['to'] == '')\n",
        "        recent_txs = sum(1 for tx in eth_txs if\n",
        "                        datetime.now() - datetime.fromtimestamp(int(tx['timeStamp'])) <\n",
        "                        timedelta(days=7))\n",
        "\n",
        "        activity_score = min(\n",
        "            (tx_count ** 0.7) * 5 +              # Progressive tx count scaling\n",
        "            (contract_txs ** 0.8) * 10 +         # Weighted contract interactions\n",
        "            recent_txs * 20,                     # Recent activity boost\n",
        "            400\n",
        "        )\n",
        "\n",
        "        # Combine with non-linear final adjustment\n",
        "        raw_score = protocol_score + activity_score\n",
        "        final_score = min(int(raw_score * (1 + raw_score/800)), SCORE_MAX)  # Enhanced stretch\n",
        "\n",
        "        return final_score\n",
        "\n",
        "    except Exception:\n",
        "        return 0\n",
        "\n",
        "def generate_risk_scores(wallet_addresses):\n",
        "    \"\"\"Generate final optimized risk scores\"\"\"\n",
        "    results = []\n",
        "\n",
        "    with tqdm(total=len(wallet_addresses), desc=\"Generating scores\") as pbar:\n",
        "        for i in range(0, len(wallet_addresses), BATCH_SIZE):\n",
        "            batch = wallet_addresses[i:i+BATCH_SIZE]\n",
        "\n",
        "            for address in batch:\n",
        "                score = calculate_risk_score(address)\n",
        "                results.append({'wallet_id': address, 'score': score})\n",
        "                pbar.update(1)\n",
        "\n",
        "            if i + BATCH_SIZE < len(wallet_addresses):\n",
        "                time.sleep(DELAY_SECONDS)\n",
        "\n",
        "    return pd.DataFrame(results)\n",
        "\n",
        "if __name__ == \"__main__\":\n",
        "    # Load wallet addresses\n",
        "    wallets = pd.read_csv('wallets.csv')['wallet_id'].tolist()\n",
        "\n",
        "    # Generate scores\n",
        "    scores_df = generate_risk_scores(wallets)\n",
        "\n",
        "    # Save results\n",
        "    scores_df.to_csv('wallet_risk_scores_final.csv', index=False)\n",
        "\n",
        "    # Display distribution\n",
        "    print(\"\\nFinal Score Distribution:\")\n",
        "    print(scores_df['score'].describe())\n",
        "\n",
        "    # Show highest risk wallets\n",
        "    print(\"\\nTop 5 Highest Risk Wallets:\")\n",
        "    print(scores_df.sort_values('score', ascending=False).head())"
      ],
      "metadata": {
        "colab": {
          "base_uri": "https://localhost:8080/"
        },
        "id": "UrhAtY-EwzZs",
        "outputId": "e891ba84-89f6-4f87-b1d7-be773b79f7d8"
      },
      "execution_count": 51,
      "outputs": [
        {
          "output_type": "stream",
          "name": "stderr",
          "text": [
            "Generating scores: 100%|██████████| 103/103 [02:05<00:00,  1.21s/it]"
          ]
        },
        {
          "output_type": "stream",
          "name": "stdout",
          "text": [
            "\n",
            "Final Score Distribution:\n",
            "count    103.000000\n",
            "mean      67.893204\n",
            "std      130.295510\n",
            "min        0.000000\n",
            "25%       10.000000\n",
            "50%       15.000000\n",
            "75%       42.500000\n",
            "max      600.000000\n",
            "Name: score, dtype: float64\n",
            "\n",
            "Top 5 Highest Risk Wallets:\n",
            "                                     wallet_id  score\n",
            "0   0x0039f22efb07a647557c7c5d17854cfd6d489ef3    600\n",
            "68  0x96479b087cb8f236a5e2dcbfc50ce63b2f421da6    600\n",
            "48  0x70d8e4ab175dfe0eab4e9a7f33e0a2d19f44001e    599\n",
            "75  0xa7f3c74f0255796fd5d3ddcf88db769f7a6bf46a    512\n",
            "96  0xf340b9f2098f80b86fbc5ede586c319473aa11f3    498\n"
          ]
        },
        {
          "output_type": "stream",
          "name": "stderr",
          "text": [
            "\n"
          ]
        }
      ]
    }
  ]
}